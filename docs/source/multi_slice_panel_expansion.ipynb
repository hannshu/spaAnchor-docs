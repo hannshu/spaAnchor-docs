{
 "cells": [
  {
   "cell_type": "markdown",
   "id": "9ef99429",
   "metadata": {},
   "source": [
    "## Multi-slice omics panel expansion using spaAnchor\n",
    "\n",
    "In this section, we illustrate spaAnchor for multi-slice omics panel expansion.\n",
    "\n",
    "We use the Xenium obtained [mouse brain dataset](https://www.10xgenomics.com/datasets/fresh-frozen-mouse-brain-replicates-1-standard) for evaluation.\n",
    "Same as the omics panel expansion, a shared anchor panel (<5% of the total features) is defined as being present across all slices.\n",
    "The remaining features are then partitioned into multiple, slice-specific panels. \n",
    "The model is tasked with imputing the complete union of all feature panels for every slice, using only the shared anchor and each slice's unique measured panel as input."
   ]
  },
  {
   "cell_type": "code",
   "execution_count": 1,
   "id": "3466880b",
   "metadata": {},
   "outputs": [],
   "source": [
    "import spaAnchor as sa\n",
    "import scanpy as sc\n",
    "import numpy as np\n",
    "from scipy.stats import pearsonr\n",
    "\n",
    "adata0 = sc.read_h5ad('/mnt/sde/data/xenium_mb/section1.h5ad')\n",
    "adata1 = sc.read_h5ad('/mnt/sde/data/xenium_mb/section2.h5ad')\n",
    "adata2 = sc.read_h5ad('/mnt/sde/data/xenium_mb/section3.h5ad')\n",
    "gene_dict = sa.utils.assign_genes(adata0.var_names, 11, [79]*3)"
   ]
  },
  {
   "cell_type": "markdown",
   "id": "92c9f996",
   "metadata": {},
   "source": [
    "Next, inputing all slices into the model to predict the unmeasured expression panel."
   ]
  },
  {
   "cell_type": "code",
   "execution_count": 2,
   "id": "e16a3276",
   "metadata": {},
   "outputs": [
    {
     "name": "stdout",
     "output_type": "stream",
     "text": [
      "INFO: Finish preprocessing. (1.821s)\n",
      "INFO: Generate 567,049 edges, average 3.500 edges per cell.\n",
      "INFO: Generate 541,208 edges, average 3.500 edges per cell.\n",
      "INFO: Generate 553,090 edges, average 3.500 edges per cell.\n",
      "INFO: Finish latent embedding generating. (3.708s)\n",
      "INFO: Finish HANN pairs finding. (60.015s)\n"
     ]
    },
    {
     "name": "stderr",
     "output_type": "stream",
     "text": [
      "INFO: Learn aggregate attention score: 100%|██████████| 500/500 [00:06<00:00, 80.54it/s]\n",
      "INFO: Learn aggregate attention score: 100%|██████████| 500/500 [00:06<00:00, 82.38it/s]\n",
      "INFO: Learn aggregate attention score: 100%|██████████| 500/500 [00:05<00:00, 84.76it/s]\n",
      "INFO: Learn aggregate attention score: 100%|██████████| 500/500 [00:05<00:00, 83.94it/s]\n",
      "INFO: Learn aggregate attention score: 100%|██████████| 500/500 [00:06<00:00, 82.26it/s]\n",
      "INFO: Learn aggregate attention score: 100%|██████████| 500/500 [00:05<00:00, 84.36it/s]\n"
     ]
    },
    {
     "name": "stdout",
     "output_type": "stream",
     "text": [
      "INFO: Finish transformation. (56.892s)\n"
     ]
    }
   ],
   "source": [
    "model = sa.panel_expansion()\n",
    "predicted_result = model([\n",
    "    adata0[:, gene_dict['shared_genes']+gene_dict['slice_0']].copy(), \n",
    "    adata1[:, gene_dict['shared_genes']+gene_dict['slice_1']].copy(),\n",
    "    adata2[:, gene_dict['shared_genes']+gene_dict['slice_2']].copy()\n",
    "])"
   ]
  },
  {
   "cell_type": "markdown",
   "id": "c57c356b",
   "metadata": {},
   "source": [
    "User can evaluate the prediction accuracy for each slice by calculating the Pearson correlation coefficient (PCC) between the predicted and measured expression values."
   ]
  },
  {
   "cell_type": "code",
   "execution_count": 3,
   "id": "dd42ffa4",
   "metadata": {},
   "outputs": [
    {
     "name": "stdout",
     "output_type": "stream",
     "text": [
      "Slice 0 PCC: 0.587\n",
      "Slice 1 PCC: 0.626\n",
      "Slice 2 PCC: 0.627\n"
     ]
    }
   ],
   "source": [
    "adata0.obs_names += f\"-0\"\n",
    "adata1.obs_names += f\"-1\"\n",
    "adata2.obs_names += f\"-2\"\n",
    "result_adata0 = adata0[predicted_result[0][\"X\"].index]\n",
    "result_adata1 = adata1[predicted_result[1][\"X\"].index]\n",
    "result_adata2 = adata2[predicted_result[2][\"X\"].index]\n",
    "\n",
    "def eval_pcc(measured, predicted):\n",
    "    return np.median([pearsonr(measured[:, i], predicted[:, i])[0] for i in range(measured.shape[1])])\n",
    "\n",
    "print(f\"Slice 0 PCC: {eval_pcc(result_adata0[:, predicted_result[0]['X'].columns].X.toarray(), predicted_result[0]['X'].to_numpy()):.3f}\")\n",
    "print(f\"Slice 1 PCC: {eval_pcc(result_adata1[:, predicted_result[1]['X'].columns].X.toarray(), predicted_result[1]['X'].to_numpy()):.3f}\")\n",
    "print(f\"Slice 2 PCC: {eval_pcc(result_adata2[:, predicted_result[2]['X'].columns].X.toarray(), predicted_result[2]['X'].to_numpy()):.3f}\")"
   ]
  }
 ],
 "metadata": {
  "kernelspec": {
   "display_name": "spaAnchor",
   "language": "python",
   "name": "python3"
  },
  "language_info": {
   "codemirror_mode": {
    "name": "ipython",
    "version": 3
   },
   "file_extension": ".py",
   "mimetype": "text/x-python",
   "name": "python",
   "nbconvert_exporter": "python",
   "pygments_lexer": "ipython3",
   "version": "3.9.21"
  }
 },
 "nbformat": 4,
 "nbformat_minor": 5
}
